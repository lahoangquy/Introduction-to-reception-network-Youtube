{
  "nbformat": 4,
  "nbformat_minor": 0,
  "metadata": {
    "colab": {
      "name": "Introduction to inception networks.ipynb",
      "provenance": []
    },
    "kernelspec": {
      "name": "python3",
      "display_name": "Python 3"
    },
    "language_info": {
      "name": "python"
    }
  },
  "cells": [
    {
      "cell_type": "markdown",
      "source": [
        "The idea behind incception networks stated from the basic premise that the objects in an image have various scales. A distant object might take up a small region of the image but the same object, once nearer, might account for the majority of the image. That presents a difficulty for standard CNNs, where the neurons in the various layers have a fixed receptive field size as imposed on the input image. A regular network might be a good dectector of objects at a certain scale but could miss them otherwise. To solve this problem, inception networks are created. An inception block starts with a common input and then splits it into various parallel paths (or towers).\n",
        "\n",
        "Each path contains either convolutional layers with a various-sized filter or a pooling layer. In this way various receptive fields will be applied on the same input data. At the end of the inceptive block, the outputs of the various paths are concatenated."
      ],
      "metadata": {
        "id": "0-Hym94Cmsps"
      }
    }
  ]
}